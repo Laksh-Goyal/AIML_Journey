{
 "cells": [
  {
   "cell_type": "markdown",
   "id": "8d225cb4",
   "metadata": {},
   "source": [
    "# Reddit r/WritingPrompts data downloader"
   ]
  },
  {
   "cell_type": "code",
   "execution_count": 4,
   "id": "b6aa3454",
   "metadata": {},
   "outputs": [],
   "source": [
    "# Step 2: Import libraries\n",
    "import praw\n",
    "import pandas as pd\n",
    "import time\n",
    "import os"
   ]
  },
  {
   "cell_type": "code",
   "execution_count": 5,
   "id": "613752c1",
   "metadata": {},
   "outputs": [],
   "source": [
    "# Step 3: Set up Reddit API credentials\n",
    "reddit = praw.Reddit(\n",
    "    client_id='-eqmyJxGZcoKmesk8lZzdQ',\n",
    "    client_secret='tDsl-SGg5_ZSNSmoHtlvTwGwxkjSrw',\n",
    "    user_agent='-eqmyJxGZcoKmesk8lZzdQ'\n",
    ")"
   ]
  },
  {
   "cell_type": "code",
   "execution_count": 6,
   "id": "bfeb5465",
   "metadata": {},
   "outputs": [],
   "source": [
    "# Step 4: Choose a subreddit and fetch posts and comments\n",
    "subreddit_name = \"WritingPrompts\"\n",
    "post_limit = 1000  # Number of posts to scrape\n",
    "\n",
    "subreddit = reddit.subreddit(subreddit_name)\n",
    "\n",
    "posts_data = []\n",
    "comments_data = []\n",
    "\n",
    "try:\n",
    "    for index, post in enumerate(subreddit.hot(limit=post_limit)):\n",
    "        if post.title[:4] != '[WP]':\n",
    "            continue\n",
    "\n",
    "        posts_data.append({\n",
    "            'title': post.title,\n",
    "            'id': post.id,\n",
    "            'num_comments': post.num_comments\n",
    "        })\n",
    "\n",
    "        try:\n",
    "            post.comments.replace_more(limit=0)\n",
    "            for comment in post.comments.list():\n",
    "                if comment.score < 5 or len(comment.body) < 256:\n",
    "                    continue\n",
    "                comments_data.append({\n",
    "                    'post_id': post.id,\n",
    "                    'comment_id': comment.id,\n",
    "                    'comment_body': comment.body,\n",
    "                    'comment_score': comment.score\n",
    "                })\n",
    "\n",
    "        except Exception as e:\n",
    "            print(f\"Error processing comments for post {post.id}: {e}\")\n",
    "\n",
    "\n",
    "except Exception as e:\n",
    "    print(f\"An unexpected error occurred: {e}\")\n",
    "    time.sleep(5)\n",
    "\n",
    "# Create DataFrames\n",
    "posts_df = pd.DataFrame(posts_data)\n",
    "comments_df = pd.DataFrame(comments_data)"
   ]
  },
  {
   "cell_type": "code",
   "execution_count": 7,
   "id": "2e9f2bcb",
   "metadata": {},
   "outputs": [
    {
     "name": "stdout",
     "output_type": "stream",
     "text": [
      "838\n"
     ]
    },
    {
     "data": {
      "text/html": [
       "<div>\n",
       "<style scoped>\n",
       "    .dataframe tbody tr th:only-of-type {\n",
       "        vertical-align: middle;\n",
       "    }\n",
       "\n",
       "    .dataframe tbody tr th {\n",
       "        vertical-align: top;\n",
       "    }\n",
       "\n",
       "    .dataframe thead th {\n",
       "        text-align: right;\n",
       "    }\n",
       "</style>\n",
       "<table border=\"1\" class=\"dataframe\">\n",
       "  <thead>\n",
       "    <tr style=\"text-align: right;\">\n",
       "      <th></th>\n",
       "      <th>title</th>\n",
       "      <th>id</th>\n",
       "      <th>num_comments</th>\n",
       "    </tr>\n",
       "  </thead>\n",
       "  <tbody>\n",
       "    <tr>\n",
       "      <th>0</th>\n",
       "      <td>[WP] The curse was broken. You remember who yo...</td>\n",
       "      <td>1lx0sij</td>\n",
       "      <td>8</td>\n",
       "    </tr>\n",
       "    <tr>\n",
       "      <th>1</th>\n",
       "      <td>[WP] For the first time in all your years as a...</td>\n",
       "      <td>1lwvgcx</td>\n",
       "      <td>11</td>\n",
       "    </tr>\n",
       "    <tr>\n",
       "      <th>2</th>\n",
       "      <td>[WP]The Witch Of Nowhere was banned to live in...</td>\n",
       "      <td>1lwypks</td>\n",
       "      <td>11</td>\n",
       "    </tr>\n",
       "    <tr>\n",
       "      <th>3</th>\n",
       "      <td>[WP] When you were a child, you had a very str...</td>\n",
       "      <td>1lx52x2</td>\n",
       "      <td>3</td>\n",
       "    </tr>\n",
       "    <tr>\n",
       "      <th>4</th>\n",
       "      <td>[WP] People laugh at your friend for his super...</td>\n",
       "      <td>1lx6u9l</td>\n",
       "      <td>2</td>\n",
       "    </tr>\n",
       "  </tbody>\n",
       "</table>\n",
       "</div>"
      ],
      "text/plain": [
       "                                               title       id  num_comments\n",
       "0  [WP] The curse was broken. You remember who yo...  1lx0sij             8\n",
       "1  [WP] For the first time in all your years as a...  1lwvgcx            11\n",
       "2  [WP]The Witch Of Nowhere was banned to live in...  1lwypks            11\n",
       "3  [WP] When you were a child, you had a very str...  1lx52x2             3\n",
       "4  [WP] People laugh at your friend for his super...  1lx6u9l             2"
      ]
     },
     "execution_count": 7,
     "metadata": {},
     "output_type": "execute_result"
    }
   ],
   "source": [
    "print(len(posts_df))\n",
    "posts_df.head()"
   ]
  },
  {
   "cell_type": "code",
   "execution_count": 8,
   "id": "f07d0f82",
   "metadata": {},
   "outputs": [
    {
     "name": "stdout",
     "output_type": "stream",
     "text": [
      "751\n"
     ]
    },
    {
     "data": {
      "text/html": [
       "<div>\n",
       "<style scoped>\n",
       "    .dataframe tbody tr th:only-of-type {\n",
       "        vertical-align: middle;\n",
       "    }\n",
       "\n",
       "    .dataframe tbody tr th {\n",
       "        vertical-align: top;\n",
       "    }\n",
       "\n",
       "    .dataframe thead th {\n",
       "        text-align: right;\n",
       "    }\n",
       "</style>\n",
       "<table border=\"1\" class=\"dataframe\">\n",
       "  <thead>\n",
       "    <tr style=\"text-align: right;\">\n",
       "      <th></th>\n",
       "      <th>post_id</th>\n",
       "      <th>comment_id</th>\n",
       "      <th>comment_body</th>\n",
       "      <th>comment_score</th>\n",
       "    </tr>\n",
       "  </thead>\n",
       "  <tbody>\n",
       "    <tr>\n",
       "      <th>0</th>\n",
       "      <td>1lx0sij</td>\n",
       "      <td>n2ij42j</td>\n",
       "      <td>I watch, as my wife sleeps, with our newborn d...</td>\n",
       "      <td>44</td>\n",
       "    </tr>\n",
       "    <tr>\n",
       "      <th>1</th>\n",
       "      <td>1lx0sij</td>\n",
       "      <td>n2is0gm</td>\n",
       "      <td>It was all part of the plan. Go in without mem...</td>\n",
       "      <td>14</td>\n",
       "    </tr>\n",
       "    <tr>\n",
       "      <th>2</th>\n",
       "      <td>1lx0sij</td>\n",
       "      <td>n2ij67i</td>\n",
       "      <td>She was the mother of all things... the creato...</td>\n",
       "      <td>9</td>\n",
       "    </tr>\n",
       "    <tr>\n",
       "      <th>3</th>\n",
       "      <td>1lwvgcx</td>\n",
       "      <td>n2hlpid</td>\n",
       "      <td>You learn a lot in 3,000 years of granting wis...</td>\n",
       "      <td>197</td>\n",
       "    </tr>\n",
       "    <tr>\n",
       "      <th>4</th>\n",
       "      <td>1lwvgcx</td>\n",
       "      <td>n2hkjsi</td>\n",
       "      <td>\"What do you mean \"wish denied\"?\" the current ...</td>\n",
       "      <td>55</td>\n",
       "    </tr>\n",
       "  </tbody>\n",
       "</table>\n",
       "</div>"
      ],
      "text/plain": [
       "   post_id comment_id                                       comment_body  \\\n",
       "0  1lx0sij    n2ij42j  I watch, as my wife sleeps, with our newborn d...   \n",
       "1  1lx0sij    n2is0gm  It was all part of the plan. Go in without mem...   \n",
       "2  1lx0sij    n2ij67i  She was the mother of all things... the creato...   \n",
       "3  1lwvgcx    n2hlpid  You learn a lot in 3,000 years of granting wis...   \n",
       "4  1lwvgcx    n2hkjsi  \"What do you mean \"wish denied\"?\" the current ...   \n",
       "\n",
       "   comment_score  \n",
       "0             44  \n",
       "1             14  \n",
       "2              9  \n",
       "3            197  \n",
       "4             55  "
      ]
     },
     "execution_count": 8,
     "metadata": {},
     "output_type": "execute_result"
    }
   ],
   "source": [
    "print(len(comments_df))\n",
    "comments_df.head()"
   ]
  },
  {
   "cell_type": "code",
   "execution_count": 9,
   "id": "84e4eb5f",
   "metadata": {},
   "outputs": [
    {
     "name": "stdout",
     "output_type": "stream",
     "text": [
      "Data saved to reddit_posts.csv and reddit_comments.csv\n"
     ]
    }
   ],
   "source": [
    "# Step 6: Save the data\n",
    "posts_df.to_csv(\"../data/raw/reddit_posts_11072025.csv\", index=False)\n",
    "comments_df.to_csv(\"../data/raw/reddit_comments_11072025.csv\", index=False)\n",
    "\n",
    "print(\"Data saved to reddit_posts.csv and reddit_comments.csv\")"
   ]
  },
  {
   "cell_type": "code",
   "execution_count": 10,
   "id": "e3caedd5",
   "metadata": {},
   "outputs": [],
   "source": [
    "# Have to finish pretraining the model today and trying it out. for sure.\n",
    "# Lets try and split into training and validation sets\n",
    "training_df = pd.DataFrame(columns=['Post_ID', 'Comment_ID', 'Prompt', 'Story', 'Story_Score'])\n",
    "validation_df = pd.DataFrame(pd.DataFrame(columns=['Post_ID', 'Prompt']))\n",
    "\n",
    "for index, post in posts_df.iterrows():\n",
    "    if post.id in comments_df.post_id.values:\n",
    "        comments = comments_df[comments_df.post_id == post.id]\n",
    "        for index, comment in comments.iterrows():\n",
    "            training_value = {\n",
    "                'Post_ID': post.id,\n",
    "                'Comment_ID': comment.comment_id,\n",
    "                'Prompt': post.title[4:],  # Remove '[WP]' from the title\n",
    "                'Story': comment.comment_body,\n",
    "                'Story_Score': comment.comment_score\n",
    "            }\n",
    "            training_df = pd.concat([training_df, pd.DataFrame([training_value])], ignore_index=True)\n",
    "    else:\n",
    "        validation_value = {\n",
    "            'Post_ID': post.id,\n",
    "            'Prompt': post.title\n",
    "        }\n",
    "        validation_df = pd.concat([validation_df, pd.DataFrame([validation_value])], ignore_index=True) "
   ]
  },
  {
   "cell_type": "code",
   "execution_count": 11,
   "id": "ed0f5a5c",
   "metadata": {},
   "outputs": [
    {
     "name": "stdout",
     "output_type": "stream",
     "text": [
      "751\n"
     ]
    },
    {
     "data": {
      "text/html": [
       "<div>\n",
       "<style scoped>\n",
       "    .dataframe tbody tr th:only-of-type {\n",
       "        vertical-align: middle;\n",
       "    }\n",
       "\n",
       "    .dataframe tbody tr th {\n",
       "        vertical-align: top;\n",
       "    }\n",
       "\n",
       "    .dataframe thead th {\n",
       "        text-align: right;\n",
       "    }\n",
       "</style>\n",
       "<table border=\"1\" class=\"dataframe\">\n",
       "  <thead>\n",
       "    <tr style=\"text-align: right;\">\n",
       "      <th></th>\n",
       "      <th>Post_ID</th>\n",
       "      <th>Comment_ID</th>\n",
       "      <th>Prompt</th>\n",
       "      <th>Story</th>\n",
       "      <th>Story_Score</th>\n",
       "    </tr>\n",
       "  </thead>\n",
       "  <tbody>\n",
       "    <tr>\n",
       "      <th>0</th>\n",
       "      <td>1lx0sij</td>\n",
       "      <td>n2ij42j</td>\n",
       "      <td>The curse was broken. You remember who you we...</td>\n",
       "      <td>I watch, as my wife sleeps, with our newborn d...</td>\n",
       "      <td>44</td>\n",
       "    </tr>\n",
       "    <tr>\n",
       "      <th>1</th>\n",
       "      <td>1lx0sij</td>\n",
       "      <td>n2is0gm</td>\n",
       "      <td>The curse was broken. You remember who you we...</td>\n",
       "      <td>It was all part of the plan. Go in without mem...</td>\n",
       "      <td>14</td>\n",
       "    </tr>\n",
       "    <tr>\n",
       "      <th>2</th>\n",
       "      <td>1lx0sij</td>\n",
       "      <td>n2ij67i</td>\n",
       "      <td>The curse was broken. You remember who you we...</td>\n",
       "      <td>She was the mother of all things... the creato...</td>\n",
       "      <td>9</td>\n",
       "    </tr>\n",
       "    <tr>\n",
       "      <th>3</th>\n",
       "      <td>1lwvgcx</td>\n",
       "      <td>n2hlpid</td>\n",
       "      <td>For the first time in all your years as a Gen...</td>\n",
       "      <td>You learn a lot in 3,000 years of granting wis...</td>\n",
       "      <td>197</td>\n",
       "    </tr>\n",
       "    <tr>\n",
       "      <th>4</th>\n",
       "      <td>1lwvgcx</td>\n",
       "      <td>n2hkjsi</td>\n",
       "      <td>For the first time in all your years as a Gen...</td>\n",
       "      <td>\"What do you mean \"wish denied\"?\" the current ...</td>\n",
       "      <td>55</td>\n",
       "    </tr>\n",
       "  </tbody>\n",
       "</table>\n",
       "</div>"
      ],
      "text/plain": [
       "   Post_ID Comment_ID                                             Prompt  \\\n",
       "0  1lx0sij    n2ij42j   The curse was broken. You remember who you we...   \n",
       "1  1lx0sij    n2is0gm   The curse was broken. You remember who you we...   \n",
       "2  1lx0sij    n2ij67i   The curse was broken. You remember who you we...   \n",
       "3  1lwvgcx    n2hlpid   For the first time in all your years as a Gen...   \n",
       "4  1lwvgcx    n2hkjsi   For the first time in all your years as a Gen...   \n",
       "\n",
       "                                               Story Story_Score  \n",
       "0  I watch, as my wife sleeps, with our newborn d...          44  \n",
       "1  It was all part of the plan. Go in without mem...          14  \n",
       "2  She was the mother of all things... the creato...           9  \n",
       "3  You learn a lot in 3,000 years of granting wis...         197  \n",
       "4  \"What do you mean \"wish denied\"?\" the current ...          55  "
      ]
     },
     "execution_count": 11,
     "metadata": {},
     "output_type": "execute_result"
    }
   ],
   "source": [
    "print(len(training_df))\n",
    "training_df.head()"
   ]
  },
  {
   "cell_type": "code",
   "execution_count": 12,
   "id": "59c5bbd5",
   "metadata": {},
   "outputs": [
    {
     "name": "stdout",
     "output_type": "stream",
     "text": [
      "570\n"
     ]
    },
    {
     "data": {
      "text/html": [
       "<div>\n",
       "<style scoped>\n",
       "    .dataframe tbody tr th:only-of-type {\n",
       "        vertical-align: middle;\n",
       "    }\n",
       "\n",
       "    .dataframe tbody tr th {\n",
       "        vertical-align: top;\n",
       "    }\n",
       "\n",
       "    .dataframe thead th {\n",
       "        text-align: right;\n",
       "    }\n",
       "</style>\n",
       "<table border=\"1\" class=\"dataframe\">\n",
       "  <thead>\n",
       "    <tr style=\"text-align: right;\">\n",
       "      <th></th>\n",
       "      <th>Post_ID</th>\n",
       "      <th>Prompt</th>\n",
       "    </tr>\n",
       "  </thead>\n",
       "  <tbody>\n",
       "    <tr>\n",
       "      <th>0</th>\n",
       "      <td>1lx52x2</td>\n",
       "      <td>[WP] When you were a child, you had a very str...</td>\n",
       "    </tr>\n",
       "    <tr>\n",
       "      <th>1</th>\n",
       "      <td>1lx6u9l</td>\n",
       "      <td>[WP] People laugh at your friend for his super...</td>\n",
       "    </tr>\n",
       "    <tr>\n",
       "      <th>2</th>\n",
       "      <td>1lx1rv5</td>\n",
       "      <td>[WP] Long ago, a dragon saved a human king fro...</td>\n",
       "    </tr>\n",
       "    <tr>\n",
       "      <th>3</th>\n",
       "      <td>1lx7l9c</td>\n",
       "      <td>[WP] \"so you where a paladin what did you have...</td>\n",
       "    </tr>\n",
       "    <tr>\n",
       "      <th>4</th>\n",
       "      <td>1lx3vm0</td>\n",
       "      <td>[WP] You’re an immortal and a drunk. You’ve so...</td>\n",
       "    </tr>\n",
       "  </tbody>\n",
       "</table>\n",
       "</div>"
      ],
      "text/plain": [
       "   Post_ID                                             Prompt\n",
       "0  1lx52x2  [WP] When you were a child, you had a very str...\n",
       "1  1lx6u9l  [WP] People laugh at your friend for his super...\n",
       "2  1lx1rv5  [WP] Long ago, a dragon saved a human king fro...\n",
       "3  1lx7l9c  [WP] \"so you where a paladin what did you have...\n",
       "4  1lx3vm0  [WP] You’re an immortal and a drunk. You’ve so..."
      ]
     },
     "execution_count": 12,
     "metadata": {},
     "output_type": "execute_result"
    }
   ],
   "source": [
    "print(len(validation_df))\n",
    "validation_df.head()"
   ]
  }
 ],
 "metadata": {
  "kernelspec": {
   "display_name": ".venv",
   "language": "python",
   "name": "python3"
  },
  "language_info": {
   "codemirror_mode": {
    "name": "ipython",
    "version": 3
   },
   "file_extension": ".py",
   "mimetype": "text/x-python",
   "name": "python",
   "nbconvert_exporter": "python",
   "pygments_lexer": "ipython3",
   "version": "3.10.18"
  }
 },
 "nbformat": 4,
 "nbformat_minor": 5
}
