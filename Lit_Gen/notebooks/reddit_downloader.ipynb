{
 "cells": [
  {
   "cell_type": "markdown",
   "id": "8d225cb4",
   "metadata": {},
   "source": [
    "# Reddit r/WritingPrompts data downloader"
   ]
  },
  {
   "cell_type": "code",
   "execution_count": 4,
   "id": "b6aa3454",
   "metadata": {},
   "outputs": [],
   "source": [
    "# Step 2: Import libraries\n",
    "import praw\n",
    "import pandas as pd\n",
    "import time\n",
    "import os"
   ]
  },
  {
   "cell_type": "code",
   "execution_count": 5,
   "id": "613752c1",
   "metadata": {},
   "outputs": [],
   "source": [
    "# Step 3: Set up Reddit API credentials\n",
    "reddit = praw.Reddit(\n",
    "    client_id='-eqmyJxGZcoKmesk8lZzdQ',\n",
    "    client_secret='tDsl-SGg5_ZSNSmoHtlvTwGwxkjSrw',\n",
    "    user_agent='-eqmyJxGZcoKmesk8lZzdQ'\n",
    ")"
   ]
  },
  {
   "cell_type": "code",
   "execution_count": 6,
   "id": "bfeb5465",
   "metadata": {},
   "outputs": [],
   "source": [
    "# Step 4: Choose a subreddit and fetch posts and comments\n",
    "subreddit_name = \"WritingPrompts\"\n",
    "post_limit = 1000  # Number of posts to scrape\n",
    "\n",
    "subreddit = reddit.subreddit(subreddit_name)\n",
    "\n",
    "posts_data = []\n",
    "comments_data = []\n",
    "\n",
    "try:\n",
    "    for index, post in enumerate(subreddit.hot(limit=post_limit)):\n",
    "        if post.title[:4] != '[WP]':\n",
    "            continue\n",
    "\n",
    "        posts_data.append({\n",
    "            'title': post.title,\n",
    "            'id': post.id,\n",
    "            'num_comments': post.num_comments\n",
    "        })\n",
    "\n",
    "        try:\n",
    "            post.comments.replace_more(limit=0)\n",
    "            for comment in post.comments.list():\n",
    "                if comment.score < 5 or len(comment.body) < 256:\n",
    "                    continue\n",
    "                comments_data.append({\n",
    "                    'post_id': post.id,\n",
    "                    'comment_id': comment.id,\n",
    "                    'comment_body': comment.body,\n",
    "                    'comment_score': comment.score\n",
    "                })\n",
    "\n",
    "        except Exception as e:\n",
    "            print(f\"Error processing comments for post {post.id}: {e}\")\n",
    "\n",
    "\n",
    "except Exception as e:\n",
    "    print(f\"An unexpected error occurred: {e}\")\n",
    "    time.sleep(5)\n",
    "\n",
    "# Create DataFrames\n",
    "posts_df = pd.DataFrame(posts_data)\n",
    "comments_df = pd.DataFrame(comments_data)"
   ]
  },
  {
   "cell_type": "code",
   "execution_count": 7,
   "id": "2e9f2bcb",
   "metadata": {},
   "outputs": [
    {
     "name": "stdout",
     "output_type": "stream",
     "text": [
      "841\n"
     ]
    },
    {
     "data": {
      "text/html": [
       "<div>\n",
       "<style scoped>\n",
       "    .dataframe tbody tr th:only-of-type {\n",
       "        vertical-align: middle;\n",
       "    }\n",
       "\n",
       "    .dataframe tbody tr th {\n",
       "        vertical-align: top;\n",
       "    }\n",
       "\n",
       "    .dataframe thead th {\n",
       "        text-align: right;\n",
       "    }\n",
       "</style>\n",
       "<table border=\"1\" class=\"dataframe\">\n",
       "  <thead>\n",
       "    <tr style=\"text-align: right;\">\n",
       "      <th></th>\n",
       "      <th>title</th>\n",
       "      <th>id</th>\n",
       "      <th>num_comments</th>\n",
       "    </tr>\n",
       "  </thead>\n",
       "  <tbody>\n",
       "    <tr>\n",
       "      <th>0</th>\n",
       "      <td>[WP] You’re the villain in a prophecy—but the ...</td>\n",
       "      <td>1lqha2t</td>\n",
       "      <td>10</td>\n",
       "    </tr>\n",
       "    <tr>\n",
       "      <th>1</th>\n",
       "      <td>[WP] a powerful wizard who has taken in severa...</td>\n",
       "      <td>1lqq5lg</td>\n",
       "      <td>2</td>\n",
       "    </tr>\n",
       "    <tr>\n",
       "      <th>2</th>\n",
       "      <td>[WP] You are a supervillain. You've discovered...</td>\n",
       "      <td>1lq4q3k</td>\n",
       "      <td>16</td>\n",
       "    </tr>\n",
       "    <tr>\n",
       "      <th>3</th>\n",
       "      <td>[WP] \"BE NOT AFRAID-\" \"Hey, uh, respectfully, ...</td>\n",
       "      <td>1lqm0z0</td>\n",
       "      <td>3</td>\n",
       "    </tr>\n",
       "    <tr>\n",
       "      <th>4</th>\n",
       "      <td>[WP] There's an app on your phone that you don...</td>\n",
       "      <td>1lqql6d</td>\n",
       "      <td>2</td>\n",
       "    </tr>\n",
       "  </tbody>\n",
       "</table>\n",
       "</div>"
      ],
      "text/plain": [
       "                                               title       id  num_comments\n",
       "0  [WP] You’re the villain in a prophecy—but the ...  1lqha2t            10\n",
       "1  [WP] a powerful wizard who has taken in severa...  1lqq5lg             2\n",
       "2  [WP] You are a supervillain. You've discovered...  1lq4q3k            16\n",
       "3  [WP] \"BE NOT AFRAID-\" \"Hey, uh, respectfully, ...  1lqm0z0             3\n",
       "4  [WP] There's an app on your phone that you don...  1lqql6d             2"
      ]
     },
     "execution_count": 7,
     "metadata": {},
     "output_type": "execute_result"
    }
   ],
   "source": [
    "print(len(posts_df))\n",
    "posts_df.head()"
   ]
  },
  {
   "cell_type": "code",
   "execution_count": 8,
   "id": "f07d0f82",
   "metadata": {},
   "outputs": [
    {
     "name": "stdout",
     "output_type": "stream",
     "text": [
      "815\n"
     ]
    },
    {
     "data": {
      "text/html": [
       "<div>\n",
       "<style scoped>\n",
       "    .dataframe tbody tr th:only-of-type {\n",
       "        vertical-align: middle;\n",
       "    }\n",
       "\n",
       "    .dataframe tbody tr th {\n",
       "        vertical-align: top;\n",
       "    }\n",
       "\n",
       "    .dataframe thead th {\n",
       "        text-align: right;\n",
       "    }\n",
       "</style>\n",
       "<table border=\"1\" class=\"dataframe\">\n",
       "  <thead>\n",
       "    <tr style=\"text-align: right;\">\n",
       "      <th></th>\n",
       "      <th>post_id</th>\n",
       "      <th>comment_id</th>\n",
       "      <th>comment_body</th>\n",
       "      <th>comment_score</th>\n",
       "    </tr>\n",
       "  </thead>\n",
       "  <tbody>\n",
       "    <tr>\n",
       "      <th>0</th>\n",
       "      <td>1lqha2t</td>\n",
       "      <td>n12vob3</td>\n",
       "      <td>Okay, I rose from a peasant girl, to a Duchess...</td>\n",
       "      <td>113</td>\n",
       "    </tr>\n",
       "    <tr>\n",
       "      <th>1</th>\n",
       "      <td>1lq4q3k</td>\n",
       "      <td>n1003np</td>\n",
       "      <td>I had worked my way up the chain, putting in m...</td>\n",
       "      <td>242</td>\n",
       "    </tr>\n",
       "    <tr>\n",
       "      <th>2</th>\n",
       "      <td>1lq4q3k</td>\n",
       "      <td>n11drei</td>\n",
       "      <td>KRRRRT. KRRRRT. \\n\\nBlake’s eyes were wide ope...</td>\n",
       "      <td>75</td>\n",
       "    </tr>\n",
       "    <tr>\n",
       "      <th>3</th>\n",
       "      <td>1lq4q3k</td>\n",
       "      <td>n12dac6</td>\n",
       "      <td>I found Miss Marvelous home address. I zoomed ...</td>\n",
       "      <td>6</td>\n",
       "    </tr>\n",
       "    <tr>\n",
       "      <th>4</th>\n",
       "      <td>1lqm0z0</td>\n",
       "      <td>n13q9a9</td>\n",
       "      <td>The thing with a random face in the middle of ...</td>\n",
       "      <td>12</td>\n",
       "    </tr>\n",
       "  </tbody>\n",
       "</table>\n",
       "</div>"
      ],
      "text/plain": [
       "   post_id comment_id                                       comment_body  \\\n",
       "0  1lqha2t    n12vob3  Okay, I rose from a peasant girl, to a Duchess...   \n",
       "1  1lq4q3k    n1003np  I had worked my way up the chain, putting in m...   \n",
       "2  1lq4q3k    n11drei  KRRRRT. KRRRRT. \\n\\nBlake’s eyes were wide ope...   \n",
       "3  1lq4q3k    n12dac6  I found Miss Marvelous home address. I zoomed ...   \n",
       "4  1lqm0z0    n13q9a9  The thing with a random face in the middle of ...   \n",
       "\n",
       "   comment_score  \n",
       "0            113  \n",
       "1            242  \n",
       "2             75  \n",
       "3              6  \n",
       "4             12  "
      ]
     },
     "execution_count": 8,
     "metadata": {},
     "output_type": "execute_result"
    }
   ],
   "source": [
    "print(len(comments_df))\n",
    "comments_df.head()"
   ]
  },
  {
   "cell_type": "code",
   "execution_count": 9,
   "id": "84e4eb5f",
   "metadata": {},
   "outputs": [
    {
     "name": "stdout",
     "output_type": "stream",
     "text": [
      "Data saved to reddit_posts.csv and reddit_comments.csv\n"
     ]
    }
   ],
   "source": [
    "# Step 6: Save the data\n",
    "posts_df.to_csv(\"../data/raw/reddit_posts_03072025.csv\", index=False)\n",
    "comments_df.to_csv(\"../data/raw/reddit_comments_03072025.csv\", index=False)\n",
    "\n",
    "print(\"Data saved to reddit_posts.csv and reddit_comments.csv\")"
   ]
  },
  {
   "cell_type": "code",
   "execution_count": 10,
   "id": "e3caedd5",
   "metadata": {},
   "outputs": [],
   "source": [
    "# Have to finish pretraining the model today and trying it out. for sure.\n",
    "# Lets try and split into training and validation sets\n",
    "training_df = pd.DataFrame(columns=['Post_ID', 'Comment_ID', 'Prompt', 'Story', 'Story_Score'])\n",
    "validation_df = pd.DataFrame(pd.DataFrame(columns=['Post_ID', 'Prompt']))\n",
    "\n",
    "for index, post in posts_df.iterrows():\n",
    "    if post.id in comments_df.post_id.values:\n",
    "        comments = comments_df[comments_df.post_id == post.id]\n",
    "        for index, comment in comments.iterrows():\n",
    "            training_value = {\n",
    "                'Post_ID': post.id,\n",
    "                'Comment_ID': comment.comment_id,\n",
    "                'Prompt': post.title[4:],  # Remove '[WP]' from the title\n",
    "                'Story': comment.comment_body,\n",
    "                'Story_Score': comment.comment_score\n",
    "            }\n",
    "            training_df = pd.concat([training_df, pd.DataFrame([training_value])], ignore_index=True)\n",
    "    else:\n",
    "        validation_value = {\n",
    "            'Post_ID': post.id,\n",
    "            'Prompt': post.title\n",
    "        }\n",
    "        validation_df = pd.concat([validation_df, pd.DataFrame([validation_value])], ignore_index=True) "
   ]
  },
  {
   "cell_type": "code",
   "execution_count": 11,
   "id": "ed0f5a5c",
   "metadata": {},
   "outputs": [
    {
     "name": "stdout",
     "output_type": "stream",
     "text": [
      "815\n"
     ]
    },
    {
     "data": {
      "text/html": [
       "<div>\n",
       "<style scoped>\n",
       "    .dataframe tbody tr th:only-of-type {\n",
       "        vertical-align: middle;\n",
       "    }\n",
       "\n",
       "    .dataframe tbody tr th {\n",
       "        vertical-align: top;\n",
       "    }\n",
       "\n",
       "    .dataframe thead th {\n",
       "        text-align: right;\n",
       "    }\n",
       "</style>\n",
       "<table border=\"1\" class=\"dataframe\">\n",
       "  <thead>\n",
       "    <tr style=\"text-align: right;\">\n",
       "      <th></th>\n",
       "      <th>Post_ID</th>\n",
       "      <th>Comment_ID</th>\n",
       "      <th>Prompt</th>\n",
       "      <th>Story</th>\n",
       "      <th>Story_Score</th>\n",
       "    </tr>\n",
       "  </thead>\n",
       "  <tbody>\n",
       "    <tr>\n",
       "      <th>0</th>\n",
       "      <td>1lqha2t</td>\n",
       "      <td>n12vob3</td>\n",
       "      <td>You’re the villain in a prophecy—but the hero...</td>\n",
       "      <td>Okay, I rose from a peasant girl, to a Duchess...</td>\n",
       "      <td>113</td>\n",
       "    </tr>\n",
       "    <tr>\n",
       "      <th>1</th>\n",
       "      <td>1lq4q3k</td>\n",
       "      <td>n1003np</td>\n",
       "      <td>You are a supervillain. You've discovered whe...</td>\n",
       "      <td>I had worked my way up the chain, putting in m...</td>\n",
       "      <td>242</td>\n",
       "    </tr>\n",
       "    <tr>\n",
       "      <th>2</th>\n",
       "      <td>1lq4q3k</td>\n",
       "      <td>n11drei</td>\n",
       "      <td>You are a supervillain. You've discovered whe...</td>\n",
       "      <td>KRRRRT. KRRRRT. \\n\\nBlake’s eyes were wide ope...</td>\n",
       "      <td>75</td>\n",
       "    </tr>\n",
       "    <tr>\n",
       "      <th>3</th>\n",
       "      <td>1lq4q3k</td>\n",
       "      <td>n12dac6</td>\n",
       "      <td>You are a supervillain. You've discovered whe...</td>\n",
       "      <td>I found Miss Marvelous home address. I zoomed ...</td>\n",
       "      <td>6</td>\n",
       "    </tr>\n",
       "    <tr>\n",
       "      <th>4</th>\n",
       "      <td>1lqm0z0</td>\n",
       "      <td>n13q9a9</td>\n",
       "      <td>\"BE NOT AFRAID-\" \"Hey, uh, respectfully, you ...</td>\n",
       "      <td>The thing with a random face in the middle of ...</td>\n",
       "      <td>12</td>\n",
       "    </tr>\n",
       "  </tbody>\n",
       "</table>\n",
       "</div>"
      ],
      "text/plain": [
       "   Post_ID Comment_ID                                             Prompt  \\\n",
       "0  1lqha2t    n12vob3   You’re the villain in a prophecy—but the hero...   \n",
       "1  1lq4q3k    n1003np   You are a supervillain. You've discovered whe...   \n",
       "2  1lq4q3k    n11drei   You are a supervillain. You've discovered whe...   \n",
       "3  1lq4q3k    n12dac6   You are a supervillain. You've discovered whe...   \n",
       "4  1lqm0z0    n13q9a9   \"BE NOT AFRAID-\" \"Hey, uh, respectfully, you ...   \n",
       "\n",
       "                                               Story Story_Score  \n",
       "0  Okay, I rose from a peasant girl, to a Duchess...         113  \n",
       "1  I had worked my way up the chain, putting in m...         242  \n",
       "2  KRRRRT. KRRRRT. \\n\\nBlake’s eyes were wide ope...          75  \n",
       "3  I found Miss Marvelous home address. I zoomed ...           6  \n",
       "4  The thing with a random face in the middle of ...          12  "
      ]
     },
     "execution_count": 11,
     "metadata": {},
     "output_type": "execute_result"
    }
   ],
   "source": [
    "print(len(training_df))\n",
    "training_df.head()"
   ]
  },
  {
   "cell_type": "code",
   "execution_count": 12,
   "id": "59c5bbd5",
   "metadata": {},
   "outputs": [
    {
     "name": "stdout",
     "output_type": "stream",
     "text": [
      "549\n"
     ]
    },
    {
     "data": {
      "text/html": [
       "<div>\n",
       "<style scoped>\n",
       "    .dataframe tbody tr th:only-of-type {\n",
       "        vertical-align: middle;\n",
       "    }\n",
       "\n",
       "    .dataframe tbody tr th {\n",
       "        vertical-align: top;\n",
       "    }\n",
       "\n",
       "    .dataframe thead th {\n",
       "        text-align: right;\n",
       "    }\n",
       "</style>\n",
       "<table border=\"1\" class=\"dataframe\">\n",
       "  <thead>\n",
       "    <tr style=\"text-align: right;\">\n",
       "      <th></th>\n",
       "      <th>Post_ID</th>\n",
       "      <th>Prompt</th>\n",
       "    </tr>\n",
       "  </thead>\n",
       "  <tbody>\n",
       "    <tr>\n",
       "      <th>0</th>\n",
       "      <td>1lqq5lg</td>\n",
       "      <td>[WP] a powerful wizard who has taken in severa...</td>\n",
       "    </tr>\n",
       "    <tr>\n",
       "      <th>1</th>\n",
       "      <td>1lqql6d</td>\n",
       "      <td>[WP] There's an app on your phone that you don...</td>\n",
       "    </tr>\n",
       "    <tr>\n",
       "      <th>2</th>\n",
       "      <td>1lqj12o</td>\n",
       "      <td>[WP] At a monastery where many take vows of si...</td>\n",
       "    </tr>\n",
       "    <tr>\n",
       "      <th>3</th>\n",
       "      <td>1lqo361</td>\n",
       "      <td>[WP] A fictional character comes to life with ...</td>\n",
       "    </tr>\n",
       "    <tr>\n",
       "      <th>4</th>\n",
       "      <td>1lqqxbj</td>\n",
       "      <td>[WP] Life is all about the simple things. A go...</td>\n",
       "    </tr>\n",
       "  </tbody>\n",
       "</table>\n",
       "</div>"
      ],
      "text/plain": [
       "   Post_ID                                             Prompt\n",
       "0  1lqq5lg  [WP] a powerful wizard who has taken in severa...\n",
       "1  1lqql6d  [WP] There's an app on your phone that you don...\n",
       "2  1lqj12o  [WP] At a monastery where many take vows of si...\n",
       "3  1lqo361  [WP] A fictional character comes to life with ...\n",
       "4  1lqqxbj  [WP] Life is all about the simple things. A go..."
      ]
     },
     "execution_count": 12,
     "metadata": {},
     "output_type": "execute_result"
    }
   ],
   "source": [
    "print(len(validation_df))\n",
    "validation_df.head()"
   ]
  }
 ],
 "metadata": {
  "kernelspec": {
   "display_name": ".venv",
   "language": "python",
   "name": "python3"
  },
  "language_info": {
   "codemirror_mode": {
    "name": "ipython",
    "version": 3
   },
   "file_extension": ".py",
   "mimetype": "text/x-python",
   "name": "python",
   "nbconvert_exporter": "python",
   "pygments_lexer": "ipython3",
   "version": "3.10.18"
  }
 },
 "nbformat": 4,
 "nbformat_minor": 5
}
